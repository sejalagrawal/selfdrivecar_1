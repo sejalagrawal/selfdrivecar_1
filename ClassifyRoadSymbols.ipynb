{
  "nbformat": 4,
  "nbformat_minor": 0,
  "metadata": {
    "colab": {
      "name": "ClassifyRoadSymbols.ipynb",
      "provenance": [],
      "authorship_tag": "ABX9TyOybr9zQPQic5dcre/InsYk",
      "include_colab_link": true
    },
    "kernelspec": {
      "name": "python3",
      "display_name": "Python 3"
    },
    "language_info": {
      "name": "python"
    }
  },
  "cells": [
    {
      "cell_type": "markdown",
      "metadata": {
        "id": "view-in-github",
        "colab_type": "text"
      },
      "source": [
        "<a href=\"https://colab.research.google.com/github/sejalagrawal/selfdrivecar_1/blob/main/ClassifyRoadSymbols.ipynb\" target=\"_parent\"><img src=\"https://colab.research.google.com/assets/colab-badge.svg\" alt=\"Open In Colab\"/></a>"
      ]
    },
    {
      "cell_type": "code",
      "source": [
        "!git clone https://bitbucket.org/jadslim/german-traffic-signs"
      ],
      "metadata": {
        "colab": {
          "base_uri": "https://localhost:8080/"
        },
        "id": "UuckW65pJtJM",
        "outputId": "4fa48be2-ee2e-464d-94a0-e0fed7c25496"
      },
      "execution_count": null,
      "outputs": [
        {
          "output_type": "stream",
          "name": "stdout",
          "text": [
            "Cloning into 'german-traffic-signs'...\n",
            "Unpacking objects: 100% (6/6), done.\n"
          ]
        }
      ]
    },
    {
      "cell_type": "code",
      "source": [
        "!ls german-traffic-signs"
      ],
      "metadata": {
        "colab": {
          "base_uri": "https://localhost:8080/"
        },
        "id": "ef19KEveKjNg",
        "outputId": "b799e0c2-9445-477b-d657-d503a2ccf9fd"
      },
      "execution_count": 14,
      "outputs": [
        {
          "output_type": "stream",
          "name": "stdout",
          "text": [
            "signnames.csv  test.p  train.p\tvalid.p\n"
          ]
        }
      ]
    },
    {
      "cell_type": "code",
      "execution_count": 15,
      "metadata": {
        "id": "ilGArBBW5q2Q"
      },
      "outputs": [],
      "source": [
        "import numpy as np\n",
        "import matplotlib.pyplot as plt\n",
        "import keras\n",
        "from keras.models import Sequential\n",
        "from keras.layers import Dense\n",
        "from tensorflow.keras.optimizers import Adam\n",
        "from keras.utils.np_utils import to_categorical\n",
        "from keras.layers import Dropout, Flatten\n",
        "from keras.layers.convolutional import Conv2D, MaxPooling2D\n",
        "import pickle"
      ]
    },
    {
      "cell_type": "code",
      "source": [
        "np.random.seed(0)\n"
      ],
      "metadata": {
        "id": "7ljZdR717V92"
      },
      "execution_count": 16,
      "outputs": []
    },
    {
      "cell_type": "code",
      "source": [
        "with open('german-traffic-signs/train.p', 'rb') as f:\n",
        "  train_data = pickle.load(f)\n",
        "with open('german-traffic-signs/valid.p', 'rb') as f:\n",
        "  val_data = pickle.load(f)\n",
        "with open('german-traffic-signs/test.p', 'rb') as f:\n",
        "  test_data = pickle.load(f)\n",
        "\n",
        "print(type(train_data))\n",
        "\n",
        "X_train, y_train = train_data['features'], train_data['labels']\n",
        "X_test, y_test = test_data['features'], test_data['labels']\n",
        "X_val, y_val = val_data['features'], val_data['labels']"
      ],
      "metadata": {
        "id": "KX_vK8Tf7rK0",
        "colab": {
          "base_uri": "https://localhost:8080/"
        },
        "outputId": "83e875b5-99a9-4960-f231-6d62aebe36eb"
      },
      "execution_count": 21,
      "outputs": [
        {
          "output_type": "stream",
          "name": "stdout",
          "text": [
            "<class 'dict'>\n"
          ]
        }
      ]
    },
    {
      "cell_type": "code",
      "source": [
        "print(X_train.shape)\n",
        "print(X_val.shape)\n",
        "print(X_test.shape)"
      ],
      "metadata": {
        "colab": {
          "base_uri": "https://localhost:8080/"
        },
        "id": "jAxg7XPeSEK5",
        "outputId": "eeecacc1-9d8f-4cda-e4ef-eab0940a0fd4"
      },
      "execution_count": 22,
      "outputs": [
        {
          "output_type": "stream",
          "name": "stdout",
          "text": [
            "(34799, 32, 32, 3)\n",
            "(4410, 32, 32, 3)\n",
            "(12630, 32, 32, 3)\n"
          ]
        }
      ]
    }
  ]
}